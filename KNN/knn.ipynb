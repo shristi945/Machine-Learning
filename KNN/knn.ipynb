{
 "cells": [
  {
   "cell_type": "code",
   "execution_count": 1,
   "metadata": {},
   "outputs": [],
   "source": [
    "#importing libraries\n",
    "\n",
    "import numpy as np\n",
    "import pandas as pd\n",
    "import matplotlib.pyplot as plt\n"
   ]
  },
  {
   "cell_type": "code",
   "execution_count": 2,
   "metadata": {},
   "outputs": [],
   "source": [
    "%matplotlib inline"
   ]
  },
  {
   "cell_type": "code",
   "execution_count": 3,
   "metadata": {},
   "outputs": [
    {
     "name": "stdout",
     "output_type": "stream",
     "text": [
      "['.ipynb_checkpoints', 'knn.ipynb', 'Social_Network_Ads.csv']\n"
     ]
    }
   ],
   "source": [
    "import os \n",
    "print(os.listdir())"
   ]
  },
  {
   "cell_type": "code",
   "execution_count": 4,
   "metadata": {},
   "outputs": [],
   "source": [
    "data = pd.read_csv('Social_Network_Ads.csv')"
   ]
  },
  {
   "cell_type": "code",
   "execution_count": 5,
   "metadata": {},
   "outputs": [
    {
     "data": {
      "text/html": [
       "<div>\n",
       "<style scoped>\n",
       "    .dataframe tbody tr th:only-of-type {\n",
       "        vertical-align: middle;\n",
       "    }\n",
       "\n",
       "    .dataframe tbody tr th {\n",
       "        vertical-align: top;\n",
       "    }\n",
       "\n",
       "    .dataframe thead th {\n",
       "        text-align: right;\n",
       "    }\n",
       "</style>\n",
       "<table border=\"1\" class=\"dataframe\">\n",
       "  <thead>\n",
       "    <tr style=\"text-align: right;\">\n",
       "      <th></th>\n",
       "      <th>User ID</th>\n",
       "      <th>Gender</th>\n",
       "      <th>Age</th>\n",
       "      <th>EstimatedSalary</th>\n",
       "      <th>Purchased</th>\n",
       "    </tr>\n",
       "  </thead>\n",
       "  <tbody>\n",
       "    <tr>\n",
       "      <th>0</th>\n",
       "      <td>15624510</td>\n",
       "      <td>Male</td>\n",
       "      <td>19</td>\n",
       "      <td>19000</td>\n",
       "      <td>0</td>\n",
       "    </tr>\n",
       "    <tr>\n",
       "      <th>1</th>\n",
       "      <td>15810944</td>\n",
       "      <td>Male</td>\n",
       "      <td>35</td>\n",
       "      <td>20000</td>\n",
       "      <td>0</td>\n",
       "    </tr>\n",
       "    <tr>\n",
       "      <th>2</th>\n",
       "      <td>15668575</td>\n",
       "      <td>Female</td>\n",
       "      <td>26</td>\n",
       "      <td>43000</td>\n",
       "      <td>0</td>\n",
       "    </tr>\n",
       "    <tr>\n",
       "      <th>3</th>\n",
       "      <td>15603246</td>\n",
       "      <td>Female</td>\n",
       "      <td>27</td>\n",
       "      <td>57000</td>\n",
       "      <td>0</td>\n",
       "    </tr>\n",
       "    <tr>\n",
       "      <th>4</th>\n",
       "      <td>15804002</td>\n",
       "      <td>Male</td>\n",
       "      <td>19</td>\n",
       "      <td>76000</td>\n",
       "      <td>0</td>\n",
       "    </tr>\n",
       "  </tbody>\n",
       "</table>\n",
       "</div>"
      ],
      "text/plain": [
       "    User ID  Gender  Age  EstimatedSalary  Purchased\n",
       "0  15624510    Male   19            19000          0\n",
       "1  15810944    Male   35            20000          0\n",
       "2  15668575  Female   26            43000          0\n",
       "3  15603246  Female   27            57000          0\n",
       "4  15804002    Male   19            76000          0"
      ]
     },
     "execution_count": 5,
     "metadata": {},
     "output_type": "execute_result"
    }
   ],
   "source": [
    "data.head()"
   ]
  },
  {
   "cell_type": "code",
   "execution_count": 6,
   "metadata": {},
   "outputs": [],
   "source": [
    "# defining dependent and independent sets of the data set\n",
    "X = data.iloc[:, [2,3]].values"
   ]
  },
  {
   "cell_type": "code",
   "execution_count": 7,
   "metadata": {},
   "outputs": [],
   "source": [
    "y = data.iloc[:, -1].values"
   ]
  },
  {
   "cell_type": "code",
   "execution_count": 8,
   "metadata": {},
   "outputs": [
    {
     "data": {
      "text/plain": [
       "array([0, 0, 0, 0, 0, 0, 0, 1, 0, 0, 0, 0, 0, 0, 0, 0, 1, 1, 1, 1, 1, 1,\n",
       "       1, 1, 1, 1, 1, 1, 0, 0, 0, 1, 0, 0, 0, 0, 0, 0, 0, 0, 0, 0, 0, 0,\n",
       "       0, 0, 0, 0, 1, 0, 0, 0, 0, 0, 0, 0, 0, 0, 0, 0, 0, 0, 0, 1, 0, 0,\n",
       "       0, 0, 0, 0, 0, 0, 0, 0, 0, 1, 0, 0, 0, 0, 0, 0, 0, 0, 0, 1, 0, 0,\n",
       "       0, 0, 0, 0, 0, 0, 0, 0, 0, 1, 0, 0, 0, 0, 0, 1, 0, 0, 0, 0, 0, 0,\n",
       "       0, 0, 0, 0, 0, 0, 0, 0, 0, 0, 0, 0, 0, 0, 0, 0, 0, 0, 0, 0, 0, 0,\n",
       "       0, 0, 0, 0, 0, 1, 0, 0, 0, 0, 0, 0, 0, 0, 1, 0, 0, 0, 0, 0, 0, 0,\n",
       "       0, 0, 0, 0, 0, 1, 1, 0, 0, 0, 0, 0, 0, 0, 1, 0, 0, 0, 0, 0, 0, 0,\n",
       "       0, 0, 0, 0, 0, 0, 1, 0, 0, 0, 0, 0, 0, 0, 0, 0, 0, 0, 0, 0, 0, 0,\n",
       "       0, 0, 0, 0, 1, 0, 1, 0, 1, 0, 1, 0, 1, 1, 0, 0, 0, 1, 0, 0, 0, 1,\n",
       "       0, 1, 1, 1, 0, 0, 1, 1, 0, 1, 1, 0, 1, 1, 0, 1, 0, 0, 0, 1, 1, 0,\n",
       "       1, 1, 0, 1, 0, 1, 0, 1, 0, 0, 1, 1, 0, 1, 0, 0, 1, 1, 0, 1, 1, 0,\n",
       "       1, 1, 0, 0, 1, 0, 0, 1, 1, 1, 1, 1, 0, 1, 1, 1, 1, 0, 1, 1, 0, 1,\n",
       "       0, 1, 0, 1, 1, 1, 1, 0, 0, 0, 1, 1, 0, 1, 1, 1, 1, 1, 0, 0, 0, 1,\n",
       "       1, 0, 0, 1, 0, 1, 0, 1, 1, 0, 1, 0, 1, 1, 0, 1, 1, 0, 0, 0, 1, 1,\n",
       "       0, 1, 0, 0, 1, 0, 1, 0, 0, 1, 1, 0, 0, 1, 1, 0, 1, 1, 0, 0, 1, 0,\n",
       "       1, 0, 1, 1, 1, 0, 1, 0, 1, 1, 1, 0, 1, 1, 1, 1, 0, 1, 1, 1, 0, 1,\n",
       "       0, 1, 0, 0, 1, 1, 0, 1, 1, 1, 1, 1, 1, 0, 1, 1, 1, 1, 1, 1, 0, 1,\n",
       "       1, 1, 0, 1], dtype=int64)"
      ]
     },
     "execution_count": 8,
     "metadata": {},
     "output_type": "execute_result"
    }
   ],
   "source": [
    "y"
   ]
  },
  {
   "cell_type": "code",
   "execution_count": 9,
   "metadata": {},
   "outputs": [],
   "source": [
    "# spliting the data into training and test data sets\n",
    "\n",
    "from sklearn.model_selection import train_test_split"
   ]
  },
  {
   "cell_type": "code",
   "execution_count": 10,
   "metadata": {},
   "outputs": [],
   "source": [
    "X_train, X_test, y_train, y_test = train_test_split(X,y,test_size = 0.2)"
   ]
  },
  {
   "cell_type": "code",
   "execution_count": 11,
   "metadata": {},
   "outputs": [
    {
     "data": {
      "text/plain": [
       "320"
      ]
     },
     "execution_count": 11,
     "metadata": {},
     "output_type": "execute_result"
    }
   ],
   "source": [
    "len(X_train)"
   ]
  },
  {
   "cell_type": "code",
   "execution_count": 12,
   "metadata": {},
   "outputs": [],
   "source": [
    "# feature scaling is needed here (everytime in case of classifier)"
   ]
  },
  {
   "cell_type": "code",
   "execution_count": 13,
   "metadata": {},
   "outputs": [],
   "source": [
    "from sklearn.preprocessing import StandardScaler"
   ]
  },
  {
   "cell_type": "code",
   "execution_count": 14,
   "metadata": {},
   "outputs": [
    {
     "name": "stderr",
     "output_type": "stream",
     "text": [
      "C:\\Users\\sgupta34\\Anaconda3\\lib\\site-packages\\sklearn\\utils\\validation.py:595: DataConversionWarning: Data with input dtype int64 was converted to float64 by StandardScaler.\n",
      "  warnings.warn(msg, DataConversionWarning)\n",
      "C:\\Users\\sgupta34\\Anaconda3\\lib\\site-packages\\sklearn\\utils\\validation.py:595: DataConversionWarning: Data with input dtype int64 was converted to float64 by StandardScaler.\n",
      "  warnings.warn(msg, DataConversionWarning)\n"
     ]
    }
   ],
   "source": [
    "sc = StandardScaler()\n",
    "X_train = sc.fit_transform(X_train)"
   ]
  },
  {
   "cell_type": "code",
   "execution_count": 15,
   "metadata": {},
   "outputs": [
    {
     "name": "stderr",
     "output_type": "stream",
     "text": [
      "C:\\Users\\sgupta34\\Anaconda3\\lib\\site-packages\\sklearn\\utils\\validation.py:595: DataConversionWarning: Data with input dtype int64 was converted to float64 by StandardScaler.\n",
      "  warnings.warn(msg, DataConversionWarning)\n"
     ]
    }
   ],
   "source": [
    "X_test = sc.transform(X_test)"
   ]
  },
  {
   "cell_type": "code",
   "execution_count": 16,
   "metadata": {},
   "outputs": [
    {
     "data": {
      "text/plain": [
       "array([[-2.23346439e-01, -3.17160424e-01],\n",
       "       [ 8.17950866e-01, -2.88171182e-01],\n",
       "       [ 3.44633909e-01,  5.23527589e-01],\n",
       "       [-2.23346439e-01, -4.62106633e-01],\n",
       "       [-2.23346439e-01, -1.33178389e+00],\n",
       "       [-6.96663396e-01,  5.23527589e-01],\n",
       "       [-1.45397053e+00, -1.72214215e-01],\n",
       "       [-9.80653570e-01,  4.36559863e-01],\n",
       "       [-1.28683048e-01, -2.59181940e-01],\n",
       "       [ 2.49970518e-01, -3.46149666e-01],\n",
       "       [-1.07531696e+00,  4.36559863e-01],\n",
       "       [ 1.57525800e+00, -1.24481616e+00],\n",
       "       [-1.73796070e+00,  2.04645929e-01],\n",
       "       [ 7.23287475e-01, -1.24481616e+00],\n",
       "       [ 3.44633909e-01, -1.12885919e+00],\n",
       "       [ 2.14323835e+00, -6.65031325e-01],\n",
       "       [ 1.66992139e+00, -8.67956018e-01],\n",
       "       [ 1.55307127e-01, -2.30192698e-01],\n",
       "       [-1.45397053e+00, -1.21582692e+00],\n",
       "       [ 4.39297301e-01,  1.01634470e+00],\n",
       "       [-5.07336613e-01, -1.47673010e+00],\n",
       "       [-1.16998035e+00, -1.04189147e+00],\n",
       "       [-7.91326787e-01,  2.29187134e+00],\n",
       "       [ 1.55307127e-01,  7.84430765e-01],\n",
       "       [ 8.17950866e-01,  3.78581380e-01],\n",
       "       [-5.07336613e-01,  1.39320484e+00],\n",
       "       [-9.80653570e-01, -3.17160424e-01],\n",
       "       [ 1.95391156e+00, -1.33178389e+00],\n",
       "       [-7.91326787e-01, -1.18683768e+00],\n",
       "       [ 1.38593121e+00,  6.10495314e-01],\n",
       "       [-9.80653570e-01, -1.41875161e+00],\n",
       "       [-1.07531696e+00, -1.07088071e+00],\n",
       "       [-1.28683048e-01, -4.91095875e-01],\n",
       "       [ 9.12614258e-01, -5.78063600e-01],\n",
       "       [-4.12673222e-01, -8.09977535e-01],\n",
       "       [ 4.39297301e-01, -1.43224973e-01],\n",
       "       [-1.07531696e+00,  3.20602896e-01],\n",
       "       [-1.64329731e+00,  1.46667445e-01],\n",
       "       [-1.28683048e-01,  1.62511878e+00],\n",
       "       [-1.73796070e+00, -1.44774085e+00],\n",
       "       [-4.12673222e-01, -1.18683768e+00],\n",
       "       [-1.64329731e+00,  3.78581380e-01],\n",
       "       [-1.16998035e+00,  2.91613654e-01],\n",
       "       [-4.12673222e-01,  2.32086058e+00],\n",
       "       [ 1.00727765e+00, -1.12885919e+00],\n",
       "       [-6.02000005e-01, -3.17160424e-01],\n",
       "       [-2.23346439e-01, -2.30192698e-01],\n",
       "       [-8.85990179e-01,  1.56714029e+00],\n",
       "       [ 1.19660443e+00, -1.41875161e+00],\n",
       "       [-1.35930714e+00, -1.41875161e+00],\n",
       "       [ 1.55307127e-01,  5.96997199e-02],\n",
       "       [-3.40196563e-02,  5.96997199e-02],\n",
       "       [-3.18009830e-01, -7.51999051e-01],\n",
       "       [ 3.44633909e-01,  8.86889617e-02],\n",
       "       [-3.40196563e-02, -4.04128149e-01],\n",
       "       [ 1.19660443e+00, -7.23009809e-01],\n",
       "       [-3.40196563e-02, -3.46149666e-01],\n",
       "       [-9.80653570e-01,  1.97298968e+00],\n",
       "       [-2.23346439e-01,  1.13230167e+00],\n",
       "       [-1.54863392e+00,  8.86889617e-02],\n",
       "       [-3.40196563e-02,  2.17591437e+00],\n",
       "       [ 8.17950866e-01,  1.46667445e-01],\n",
       "       [ 6.06437351e-02,  3.20602896e-01],\n",
       "       [ 3.44633909e-01, -5.20085116e-01],\n",
       "       [-6.02000005e-01,  2.04645929e-01],\n",
       "       [ 1.76458478e+00,  1.01634470e+00],\n",
       "       [-2.23346439e-01, -4.04128149e-01],\n",
       "       [ 1.76458478e+00, -2.59181940e-01],\n",
       "       [-1.73796070e+00, -1.38976237e+00],\n",
       "       [ 1.55307127e-01,  2.91613654e-01],\n",
       "       [-8.85990179e-01,  5.23527589e-01],\n",
       "       [ 1.00727765e+00,  1.88602195e+00],\n",
       "       [ 2.49970518e-01,  5.96997199e-02],\n",
       "       [-1.73796070e+00,  3.07104780e-02],\n",
       "       [ 9.12614258e-01, -1.27380540e+00],\n",
       "       [ 7.23287475e-01,  2.91613654e-01],\n",
       "       [-1.28683048e-01,  1.42219409e+00],\n",
       "       [ 7.23287475e-01, -1.36077313e+00],\n",
       "       [ 1.29126782e+00,  1.88602195e+00],\n",
       "       [ 1.48059461e+00,  3.78581380e-01],\n",
       "       [-6.96663396e-01, -1.56369782e+00],\n",
       "       [ 2.04857495e+00,  2.14692513e+00],\n",
       "       [ 1.85924817e+00, -1.04189147e+00],\n",
       "       [ 9.12614258e-01,  1.04533394e+00],\n",
       "       [ 4.39297301e-01,  3.20602896e-01],\n",
       "       [-1.07531696e+00, -1.53470858e+00],\n",
       "       [ 3.44633909e-01, -6.94020567e-01],\n",
       "       [-1.64329731e+00, -9.54923744e-01],\n",
       "       [-3.40196563e-02,  3.07104780e-02],\n",
       "       [-2.23346439e-01,  6.39484556e-01],\n",
       "       [-5.07336613e-01, -1.47673010e+00],\n",
       "       [-2.23346439e-01,  1.75656687e-01],\n",
       "       [ 6.06437351e-02, -5.49074358e-01],\n",
       "       [ 1.00727765e+00,  1.79905423e+00],\n",
       "       [ 9.12614258e-01, -1.41875161e+00],\n",
       "       [-1.26464374e+00,  4.36559863e-01],\n",
       "       [ 1.55307127e-01,  5.96997199e-02],\n",
       "       [ 1.00727765e+00, -1.04189147e+00],\n",
       "       [ 1.38593121e+00,  2.34984982e+00],\n",
       "       [-2.23346439e-01,  5.96997199e-02],\n",
       "       [ 1.00727765e+00,  1.45118333e+00],\n",
       "       [-3.40196563e-02,  2.91613654e-01],\n",
       "       [-5.07336613e-01,  2.34984982e+00],\n",
       "       [ 2.04857495e+00, -7.80988293e-01],\n",
       "       [-8.85990179e-01,  2.91613654e-01],\n",
       "       [-1.83262409e+00, -4.91095875e-01],\n",
       "       [-1.16998035e+00,  3.20602896e-01],\n",
       "       [ 9.12614258e-01,  1.27724788e+00],\n",
       "       [-6.96663396e-01,  1.91501120e+00],\n",
       "       [ 5.33960692e-01,  1.85703271e+00],\n",
       "       [ 1.95391156e+00,  9.29376974e-01],\n",
       "       [ 1.55307127e-01,  1.53815105e+00],\n",
       "       [-8.85990179e-01,  5.81506072e-01],\n",
       "       [ 1.85924817e+00, -1.24481616e+00],\n",
       "       [-2.23346439e-01,  8.86889617e-02],\n",
       "       [ 1.48059461e+00,  2.14692513e+00],\n",
       "       [-1.35930714e+00, -8.52464892e-02],\n",
       "       [-1.26464374e+00, -1.07088071e+00],\n",
       "       [ 7.23287475e-01, -1.07088071e+00],\n",
       "       [ 1.00727765e+00, -1.04189147e+00],\n",
       "       [ 9.12614258e-01,  1.10331243e+00],\n",
       "       [-1.28683048e-01,  1.65410802e+00],\n",
       "       [ 1.10194104e+00,  2.08894665e+00],\n",
       "       [-2.23346439e-01, -2.88171182e-01],\n",
       "       [ 2.49970518e-01,  8.86889617e-02],\n",
       "       [ 3.44633909e-01,  5.96997199e-02],\n",
       "       [ 5.33960692e-01,  1.74107574e+00],\n",
       "       [-3.40196563e-02, -2.01203456e-01],\n",
       "       [ 8.17950866e-01,  7.84430765e-01],\n",
       "       [-1.26464374e+00, -3.17160424e-01],\n",
       "       [-3.40196563e-02, -4.91095875e-01],\n",
       "       [-3.40196563e-02,  1.75656687e-01],\n",
       "       [-6.02000005e-01, -8.52464892e-02],\n",
       "       [-1.83262409e+00, -7.23009809e-01],\n",
       "       [-7.91326787e-01,  4.07570622e-01],\n",
       "       [ 6.06437351e-02, -5.49074358e-01],\n",
       "       [-8.85990179e-01,  4.36559863e-01],\n",
       "       [-2.23346439e-01, -1.41875161e+00],\n",
       "       [-7.91326787e-01, -2.30192698e-01],\n",
       "       [ 2.49970518e-01, -2.30192698e-01],\n",
       "       [-5.07336613e-01,  1.39320484e+00],\n",
       "       [ 2.14323835e+00,  9.58366216e-01],\n",
       "       [ 4.39297301e-01,  1.17678203e-01],\n",
       "       [ 9.12614258e-01, -5.49074358e-01],\n",
       "       [ 6.06437351e-02,  1.27724788e+00],\n",
       "       [ 6.06437351e-02, -2.30192698e-01],\n",
       "       [-7.91326787e-01,  4.07570622e-01],\n",
       "       [-6.02000005e-01,  5.81506072e-01],\n",
       "       [-5.07336613e-01,  1.91501120e+00],\n",
       "       [-4.12673222e-01, -5.20085116e-01],\n",
       "       [-2.23346439e-01,  2.26288210e+00],\n",
       "       [ 1.76458478e+00,  1.85703271e+00],\n",
       "       [ 1.55307127e-01,  1.07432318e+00],\n",
       "       [-2.23346439e-01, -1.14235731e-01],\n",
       "       [ 6.28624083e-01, -8.67956018e-01],\n",
       "       [ 1.55307127e-01,  1.88602195e+00],\n",
       "       [-2.23346439e-01,  8.13420007e-01],\n",
       "       [ 4.39297301e-01, -4.33117391e-01],\n",
       "       [-6.02000005e-01, -2.72680056e-02],\n",
       "       [-1.45397053e+00, -1.47673010e+00],\n",
       "       [-1.64329731e+00, -5.78063600e-01],\n",
       "       [ 1.00727765e+00, -8.09977535e-01],\n",
       "       [ 4.39297301e-01, -1.14235731e-01],\n",
       "       [-1.45397053e+00, -4.04128149e-01],\n",
       "       [-1.16998035e+00, -1.36077313e+00],\n",
       "       [-3.18009830e-01, -1.27380540e+00],\n",
       "       [ 9.12614258e-01, -1.01290223e+00],\n",
       "       [ 1.10194104e+00, -8.67956018e-01],\n",
       "       [-7.91326787e-01,  1.75656687e-01],\n",
       "       [ 2.49970518e-01, -2.88171182e-01],\n",
       "       [ 7.23287475e-01, -1.36077313e+00],\n",
       "       [-3.18009830e-01,  1.33522636e+00],\n",
       "       [ 3.44633909e-01,  2.91613654e-01],\n",
       "       [ 1.10194104e+00,  1.46667445e-01],\n",
       "       [ 3.44633909e-01,  8.86889617e-02],\n",
       "       [ 1.38593121e+00,  2.00197892e+00],\n",
       "       [-1.64329731e+00,  4.94538347e-01],\n",
       "       [-1.83262409e+00,  4.94538347e-01],\n",
       "       [ 1.00727765e+00, -9.83912985e-01],\n",
       "       [ 4.39297301e-01,  3.20602896e-01],\n",
       "       [-1.07531696e+00, -1.50571934e+00],\n",
       "       [ 1.10194104e+00, -1.18683768e+00],\n",
       "       [ 6.06437351e-02,  5.96997199e-02],\n",
       "       [-1.07531696e+00,  4.94538347e-01],\n",
       "       [-9.80653570e-01,  5.52516831e-01],\n",
       "       [ 1.95391156e+00, -8.96945260e-01],\n",
       "       [-1.07531696e+00,  8.86889617e-02],\n",
       "       [-1.35930714e+00,  3.78581380e-01],\n",
       "       [ 1.55307127e-01, -7.80988293e-01],\n",
       "       [-9.80653570e-01, -1.09986995e+00],\n",
       "       [-2.23346439e-01, -1.21582692e+00],\n",
       "       [-6.02000005e-01, -1.01290223e+00],\n",
       "       [ 1.10194104e+00, -1.14235731e-01],\n",
       "       [-5.07336613e-01,  4.94538347e-01],\n",
       "       [-2.23346439e-01, -5.49074358e-01],\n",
       "       [ 1.29126782e+00, -1.33178389e+00],\n",
       "       [-2.23346439e-01, -3.46149666e-01],\n",
       "       [-4.12673222e-01,  1.27724788e+00],\n",
       "       [-8.85990179e-01, -2.88171182e-01],\n",
       "       [ 1.19660443e+00, -9.54923744e-01],\n",
       "       [ 1.85924817e+00,  1.46667445e-01],\n",
       "       [ 4.39297301e-01, -1.14235731e-01],\n",
       "       [ 1.57525800e+00,  1.13230167e+00],\n",
       "       [-9.80653570e-01,  5.81506072e-01],\n",
       "       [-1.73796070e+00, -1.27380540e+00],\n",
       "       [-9.80653570e-01,  6.10495314e-01],\n",
       "       [ 2.04857495e+00, -1.15784844e+00],\n",
       "       [ 1.85924817e+00, -2.59181940e-01],\n",
       "       [-6.02000005e-01,  1.42219409e+00],\n",
       "       [-1.26464374e+00, -4.04128149e-01],\n",
       "       [-1.28683048e-01, -4.33117391e-01],\n",
       "       [ 2.14323835e+00,  1.13230167e+00],\n",
       "       [-1.07531696e+00, -1.56369782e+00],\n",
       "       [ 8.17950866e-01, -1.18683768e+00],\n",
       "       [-2.23346439e-01,  1.17678203e-01],\n",
       "       [ 1.10194104e+00,  4.94538347e-01],\n",
       "       [-1.73796070e+00, -1.24481616e+00],\n",
       "       [-1.26464374e+00, -1.44774085e+00],\n",
       "       [ 8.17950866e-01,  2.91613654e-01],\n",
       "       [ 5.33960692e-01,  1.24825863e+00],\n",
       "       [-6.02000005e-01,  1.46667445e-01],\n",
       "       [-1.16998035e+00,  5.23527589e-01],\n",
       "       [ 1.48059461e+00,  8.86889617e-02],\n",
       "       [ 2.49970518e-01,  1.75656687e-01],\n",
       "       [ 7.23287475e-01,  1.79905423e+00],\n",
       "       [-7.91326787e-01,  3.20602896e-01],\n",
       "       [ 2.14323835e+00, -7.80988293e-01],\n",
       "       [ 1.29126782e+00,  2.23389286e+00],\n",
       "       [-6.96663396e-01, -1.50571934e+00],\n",
       "       [-6.96663396e-01,  3.20602896e-01],\n",
       "       [-9.80653570e-01, -4.33117391e-01],\n",
       "       [-3.18009830e-01,  1.24825863e+00],\n",
       "       [ 3.44633909e-01,  8.86889617e-02],\n",
       "       [ 1.55307127e-01, -2.88171182e-01],\n",
       "       [-6.96663396e-01,  1.10331243e+00],\n",
       "       [ 1.19660443e+00,  5.52516831e-01],\n",
       "       [ 1.10194104e+00, -1.18683768e+00],\n",
       "       [ 1.00727765e+00,  1.46667445e-01],\n",
       "       [ 6.06437351e-02,  1.24825863e+00],\n",
       "       [ 8.17950866e-01, -1.33178389e+00],\n",
       "       [ 2.49970518e-01, -3.46149666e-01],\n",
       "       [ 7.23287475e-01, -6.94020567e-01],\n",
       "       [ 2.49970518e-01, -6.36042084e-01],\n",
       "       [-3.40196563e-02,  1.46667445e-01],\n",
       "       [ 4.39297301e-01, -4.33117391e-01],\n",
       "       [ 9.12614258e-01,  2.17591437e+00],\n",
       "       [ 2.14323835e+00, -1.01290223e+00],\n",
       "       [-1.28683048e-01, -1.04189147e+00],\n",
       "       [-6.02000005e-01, -1.56369782e+00],\n",
       "       [-3.40196563e-02, -4.62106633e-01],\n",
       "       [-3.40196563e-02,  1.97298968e+00],\n",
       "       [ 3.44633909e-01, -1.72214215e-01],\n",
       "       [ 3.44633909e-01, -2.88171182e-01],\n",
       "       [-6.02000005e-01, -1.47673010e+00],\n",
       "       [-2.23346439e-01, -1.27380540e+00],\n",
       "       [ 8.17950866e-01, -1.07088071e+00],\n",
       "       [ 3.44633909e-01, -4.91095875e-01],\n",
       "       [-2.23346439e-01, -1.36077313e+00],\n",
       "       [-1.54863392e+00, -1.53470858e+00],\n",
       "       [-1.26464374e+00, -4.04128149e-01],\n",
       "       [ 3.44633909e-01, -2.59181940e-01],\n",
       "       [-8.85990179e-01,  4.65549105e-01],\n",
       "       [ 6.06437351e-02,  5.96997199e-02],\n",
       "       [-1.07531696e+00,  3.20602896e-01],\n",
       "       [ 8.17950866e-01, -1.36077313e+00],\n",
       "       [-1.26464374e+00,  5.81506072e-01],\n",
       "       [-1.26464374e+00, -1.21582692e+00],\n",
       "       [-9.80653570e-01, -3.46149666e-01],\n",
       "       [-1.26464374e+00, -1.33178389e+00],\n",
       "       [-2.23346439e-01, -8.67956018e-01],\n",
       "       [-1.07531696e+00,  3.49592138e-01],\n",
       "       [ 1.00727765e+00,  7.84430765e-01],\n",
       "       [ 1.00727765e+00,  6.10495314e-01],\n",
       "       [ 1.66992139e+00,  1.62511878e+00],\n",
       "       [-2.23346439e-01, -7.23009809e-01],\n",
       "       [ 1.95391156e+00,  2.17591437e+00],\n",
       "       [ 6.06437351e-02, -5.20085116e-01],\n",
       "       [-3.40196563e-02,  8.86889617e-02],\n",
       "       [-4.12673222e-01,  1.72123623e-03],\n",
       "       [-3.18009830e-01, -7.51999051e-01],\n",
       "       [-2.23346439e-01, -6.36042084e-01],\n",
       "       [-6.96663396e-01,  2.91613654e-01],\n",
       "       [-9.80653570e-01, -3.17160424e-01],\n",
       "       [ 9.12614258e-01, -7.51999051e-01],\n",
       "       [ 2.14323835e+00, -7.80988293e-01],\n",
       "       [-1.16998035e+00,  6.10495314e-01],\n",
       "       [-4.12673222e-01, -1.09986995e+00],\n",
       "       [ 2.49970518e-01, -3.46149666e-01],\n",
       "       [ 1.95391156e+00, -6.36042084e-01],\n",
       "       [-1.28683048e-01, -5.49074358e-01],\n",
       "       [-1.73796070e+00,  4.65549105e-01],\n",
       "       [ 2.04857495e+00,  1.77006499e+00],\n",
       "       [-1.45397053e+00,  3.49592138e-01],\n",
       "       [-2.23346439e-01,  1.75656687e-01],\n",
       "       [ 2.04857495e+00,  4.07570622e-01],\n",
       "       [-9.80653570e-01, -1.50571934e+00],\n",
       "       [-8.85990179e-01, -9.25934502e-01],\n",
       "       [ 4.39297301e-01,  2.32086058e+00],\n",
       "       [ 1.66992139e+00,  1.77006499e+00],\n",
       "       [ 1.00727765e+00,  2.00197892e+00],\n",
       "       [ 4.39297301e-01,  1.75656687e-01],\n",
       "       [-2.23346439e-01, -5.49074358e-01],\n",
       "       [-6.96663396e-01, -5.78063600e-01],\n",
       "       [ 9.12614258e-01, -6.36042084e-01],\n",
       "       [-3.18009830e-01,  8.86889617e-02],\n",
       "       [-1.07531696e+00,  1.42219409e+00],\n",
       "       [-6.02000005e-01,  5.96997199e-02],\n",
       "       [ 2.49970518e-01,  1.75656687e-01],\n",
       "       [-1.64329731e+00,  3.78581380e-01],\n",
       "       [ 6.06437351e-02, -2.88171182e-01],\n",
       "       [-1.64329731e+00, -1.33178389e+00],\n",
       "       [-1.35930714e+00, -6.07052842e-01],\n",
       "       [ 6.06437351e-02, -1.14235731e-01],\n",
       "       [ 4.39297301e-01,  6.10495314e-01],\n",
       "       [-1.28683048e-01,  8.71398491e-01],\n",
       "       [-8.85990179e-01, -7.23009809e-01],\n",
       "       [ 4.39297301e-01, -4.62106633e-01],\n",
       "       [-6.96663396e-01,  5.81506072e-01],\n",
       "       [ 2.49970518e-01,  2.62624413e-01],\n",
       "       [-1.54863392e+00, -2.72680056e-02]])"
      ]
     },
     "execution_count": 16,
     "metadata": {},
     "output_type": "execute_result"
    }
   ],
   "source": [
    "X_train"
   ]
  },
  {
   "cell_type": "code",
   "execution_count": 17,
   "metadata": {},
   "outputs": [],
   "source": [
    "from sklearn.neighbors import KNeighborsClassifier"
   ]
  },
  {
   "cell_type": "code",
   "execution_count": 20,
   "metadata": {},
   "outputs": [
    {
     "data": {
      "text/plain": [
       "KNeighborsClassifier(algorithm='auto', leaf_size=30, metric='minkowski',\n",
       "           metric_params=None, n_jobs=None, n_neighbors=5, p=2,\n",
       "           weights='uniform')"
      ]
     },
     "execution_count": 20,
     "metadata": {},
     "output_type": "execute_result"
    }
   ],
   "source": [
    "classifier  = KNeighborsClassifier(n_neighbors=5, p=2, metric='minkowski')\n",
    "classifier.fit(X_train, y_train)"
   ]
  },
  {
   "cell_type": "code",
   "execution_count": 21,
   "metadata": {},
   "outputs": [],
   "source": [
    "y_predictor = classifier.predict(X_test)"
   ]
  },
  {
   "cell_type": "code",
   "execution_count": 22,
   "metadata": {},
   "outputs": [
    {
     "data": {
      "text/plain": [
       "array([0, 1, 0, 1, 0, 0, 0, 1, 1, 1, 0, 1, 0, 0, 1, 0, 1, 0, 1, 0, 1, 1,\n",
       "       1, 0, 1, 0, 0, 0, 0, 0, 0, 1, 0, 0, 0, 0, 0, 0, 1, 1, 1, 0, 0, 0,\n",
       "       1, 1, 1, 0, 0, 0, 1, 0, 0, 0, 0, 0, 0, 1, 1, 0, 0, 0, 0, 0, 1, 0,\n",
       "       0, 1, 1, 1, 0, 0, 0, 1, 1, 0, 0, 1, 0, 0], dtype=int64)"
      ]
     },
     "execution_count": 22,
     "metadata": {},
     "output_type": "execute_result"
    }
   ],
   "source": [
    "y_predictor"
   ]
  },
  {
   "cell_type": "code",
   "execution_count": 23,
   "metadata": {},
   "outputs": [],
   "source": [
    "#confusion matrix\n",
    "from sklearn.metrics import confusion_matrix\n"
   ]
  },
  {
   "cell_type": "code",
   "execution_count": 24,
   "metadata": {},
   "outputs": [],
   "source": [
    "cm = confusion_matrix(y_test, y_predictor)"
   ]
  },
  {
   "cell_type": "code",
   "execution_count": 29,
   "metadata": {},
   "outputs": [
    {
     "data": {
      "text/plain": [
       "array([[42,  4],\n",
       "       [ 8, 26]], dtype=int64)"
      ]
     },
     "execution_count": 29,
     "metadata": {},
     "output_type": "execute_result"
    }
   ],
   "source": [
    "cm"
   ]
  },
  {
   "cell_type": "code",
   "execution_count": 25,
   "metadata": {},
   "outputs": [
    {
     "name": "stderr",
     "output_type": "stream",
     "text": [
      "'c' argument looks like a single numeric RGB or RGBA sequence, which should be avoided as value-mapping will have precedence in case its length matches with 'x' & 'y'.  Please use a 2-D array with a single row if you really want to specify the same RGB or RGBA value for all points.\n",
      "'c' argument looks like a single numeric RGB or RGBA sequence, which should be avoided as value-mapping will have precedence in case its length matches with 'x' & 'y'.  Please use a 2-D array with a single row if you really want to specify the same RGB or RGBA value for all points.\n"
     ]
    },
    {
     "data": {
      "text/plain": [
       "<matplotlib.legend.Legend at 0x5604358>"
      ]
     },
     "execution_count": 25,
     "metadata": {},
     "output_type": "execute_result"
    },
    {
     "data": {
      "image/png": "[encoded data removed]",
      "text/plain": [
       "<Figure size 432x288 with 1 Axes>"
      ]
     },
     "metadata": {
      "needs_background": "light"
     },
     "output_type": "display_data"
    }
   ],
   "source": [
    "#plotting a graph\n",
    "from matplotlib.colors import ListedColormap\n",
    "X_point, y_point = X_train, y_train\n",
    "X1, X2 = np.meshgrid(np.arange(start = X_point[:, 0].min() - 1, stop = X_point[:, 0].max() + 1, step = 0.01),\n",
    "                     np.arange(start = X_point[:, 1].min() - 1, stop = X_point[:, 1].max() + 1, step = 0.01))\n",
    "plt.contourf(X1, X2, classifier.predict(np.array([X1.ravel(), X2.ravel()]).T).reshape(X1.shape),\n",
    "             alpha = 0.75, cmap = ListedColormap(('green', 'blue')))\n",
    "plt.xlim(X1.min(), X1.max())\n",
    "plt.ylim(X2.min(), X2.max())\n",
    "for i, j in enumerate(np.unique(y_point)):\n",
    "    plt.scatter(X_point[y_point == j, 0], X_point[y_point == j, 1],\n",
    "                c = ListedColormap(('green', 'blue'))(i), label = j)\n",
    "plt.title('K-NN Training set')\n",
    "plt.xlabel('Age')\n",
    "plt.ylabel('Salary')\n",
    "plt.legend()"
   ]
  },
  {
   "cell_type": "code",
   "execution_count": 26,
   "metadata": {},
   "outputs": [
    {
     "name": "stderr",
     "output_type": "stream",
     "text": [
      "'c' argument looks like a single numeric RGB or RGBA sequence, which should be avoided as value-mapping will have precedence in case its length matches with 'x' & 'y'.  Please use a 2-D array with a single row if you really want to specify the same RGB or RGBA value for all points.\n",
      "'c' argument looks like a single numeric RGB or RGBA sequence, which should be avoided as value-mapping will have precedence in case its length matches with 'x' & 'y'.  Please use a 2-D array with a single row if you really want to specify the same RGB or RGBA value for all points.\n"
     ]
    },
    {
     "data": {
      "text/plain": [
       "<matplotlib.legend.Legend at 0xb1f3e48>"
      ]
     },
     "execution_count": 26,
     "metadata": {},
     "output_type": "execute_result"
    },
    {
     "data": {
      "image/png": "[encoded data removed]",
      "text/plain": [
       "<Figure size 432x288 with 1 Axes>"
      ]
     },
     "metadata": {
      "needs_background": "light"
     },
     "output_type": "display_data"
    }
   ],
   "source": [
    "from matplotlib.colors import ListedColormap\n",
    "X_point, y_point = X_test, y_test\n",
    "X1, X2 = np.meshgrid(np.arange(start = X_point[:, 0].min() - 1, stop = X_point[:, 0].max() + 1, step = 0.01),\n",
    "                     np.arange(start = X_point[:, 1].min() - 1, stop = X_point[:, 1].max() + 1, step = 0.01))\n",
    "plt.contourf(X1, X2, classifier.predict(np.array([X1.ravel(), X2.ravel()]).T).reshape(X1.shape),\n",
    "             alpha = 0.75, cmap = ListedColormap(('green', 'blue')))\n",
    "plt.xlim(X1.min(), X1.max())\n",
    "plt.ylim(X2.min(), X2.max())\n",
    "for i, j in enumerate(np.unique(y_point)):\n",
    "    plt.scatter(X_point[y_point == j, 0], X_point[y_point == j, 1],\n",
    "                c = ListedColormap(('green', 'blue'))(i), label = j)\n",
    "plt.title('K-NN Training set')\n",
    "plt.xlabel('Age')\n",
    "plt.ylabel('Salary')\n",
    "plt.legend()"
   ]
  },
  {
   "cell_type": "code",
   "execution_count": null,
   "metadata": {},
   "outputs": [],
   "source": []
  }
 ],
 "metadata": {
  "kernelspec": {
   "display_name": "Python 3",
   "language": "python",
   "name": "python3"
  },
  "language_info": {
   "codemirror_mode": {
    "name": "ipython",
    "version": 3
   },
   "file_extension": ".py",
   "mimetype": "text/x-python",
   "name": "python",
   "nbconvert_exporter": "python",
   "pygments_lexer": "ipython3",
   "version": "3.7.1"
  }
 },
 "nbformat": 4,
 "nbformat_minor": 2
}
